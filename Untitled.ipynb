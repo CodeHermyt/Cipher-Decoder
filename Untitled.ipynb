{
 "cells": [
  {
   "cell_type": "markdown",
   "id": "0b29c2c9",
   "metadata": {},
   "source": [
    " "
   ]
  },
  {
   "cell_type": "code",
   "execution_count": null,
   "id": "2b8dfc5a",
   "metadata": {},
   "outputs": [],
   "source": []
  },
  {
   "cell_type": "markdown",
   "id": "cc165560",
   "metadata": {},
   "source": [
    "Importing libraries"
   ]
  },
  {
   "cell_type": "code",
   "execution_count": 1,
   "id": "00ee8601",
   "metadata": {},
   "outputs": [],
   "source": [
    "import numpy as np\n",
    "import matplotlib.pyplot as plt\n",
    "\n",
    "import string\n",
    "import random\n",
    "import re\n",
    "import requests\n",
    "import os\n",
    "import textwrap"
   ]
  },
  {
   "cell_type": "markdown",
   "id": "4308b00c",
   "metadata": {},
   "source": [
    "### Creating Substitution Cipher"
   ]
  },
  {
   "cell_type": "code",
   "execution_count": 2,
   "id": "afda92e2",
   "metadata": {},
   "outputs": [],
   "source": [
    "letters1 = list(string.ascii_lowercase)\n",
    "letters2 = list(string.ascii_lowercase)\n",
    "# 1 for key and 2 for value\n",
    "\n",
    "true_mapping ={}\n",
    "\n",
    "# shuffle 2nd set\n",
    "random.shuffle(letters2)\n",
    "\n",
    "# populate map\n",
    "for key, value in zip(letters1, letters2):\n",
    "    true_mapping[key] = value\n"
   ]
  },
  {
   "cell_type": "code",
   "execution_count": 3,
   "id": "b8de73c2",
   "metadata": {},
   "outputs": [],
   "source": [
    "# language model\n",
    "    \n",
    "# initializing Markov matrix for bi-grams\n",
    "M = np.ones((26,26))\n",
    "\n",
    "# initializing state distribution\n",
    "pi = np.zeros(26)\n",
    "\n",
    "# to update the Markov Matrix\n",
    "def update_transition(ch1, ch2):\n",
    "    # 'a' -> 97\n",
    "    i = ord(ch1) - 97\n",
    "    j = ord(ch2) - 97\n",
    "    M[i,j] += 1\n",
    "\n",
    "# to update initial state\n",
    "\n",
    "def update_pi(ch):\n",
    "    i = ord(ch) - 97\n",
    "    pi[i] += 1\n",
    "\n",
    "# to get the log-probability of a word (aka token)\n",
    "def get_word_prob(word):\n",
    "    i = ord(word[0]) - 97\n",
    "    logp = np.log(pi[i])\n",
    "    \n",
    "    for ch in word[1:]:\n",
    "        j = ord(ch) - 97\n",
    "        logp += np.log(M[i,j])\n",
    "        i = j\n",
    "    return logp\n",
    "\n",
    "# to get the proablity of a sequence of word\n",
    "def get_sequence_prob(words): # words -> list or string\n",
    "    \n",
    "    # if input is a string\n",
    "    if type(words) == str:\n",
    "        words = words.split()\n",
    "    \n",
    "    logp = 0\n",
    "    for word in words:\n",
    "        logp += get_word_prob(word)\n",
    "    return logp\n"
   ]
  },
  {
   "cell_type": "code",
   "execution_count": 4,
   "id": "0b2a894e",
   "metadata": {},
   "outputs": [],
   "source": [
    "\n",
    "if not os.path.exists('moby_dick.txt'):\n",
    "    print(\"Downloading moby dick...\")\n",
    "    r = requests.get('https://lazyprogrammer.me/course_files/moby_dick.txt')\n",
    "    with open('moby_dick.txt', 'w') as f:\n",
    "        f.write(r.content.decode())"
   ]
  },
  {
   "cell_type": "code",
   "execution_count": 5,
   "id": "d81d0499",
   "metadata": {},
   "outputs": [],
   "source": [
    "# for replacing non-alpha characters\n",
    "regex = re.compile('[^a-zA-Z]')\n",
    "\n",
    "# load words\n",
    "for line in open('moby_dick.txt'):\n",
    "    line = line.rstrip()\n",
    "    \n",
    "    # there are blank lines in the files\n",
    "    if line:\n",
    "        line = regex.sub(' ', line) # non-alpha character -> space\n",
    "        \n",
    "        # split the token(words) in the line and lowercase\n",
    "        tokens = line.lower().split()\n",
    "        \n",
    "        for token in tokens:\n",
    "            # update the model\n",
    "            \n",
    "            # first letter\n",
    "            ch0 = token[0]\n",
    "            update_pi(ch0)\n",
    "            \n",
    "            # other letters\n",
    "            for chi in token[1:]:\n",
    "                update_transition(ch0, chi)\n",
    "                ch0 = chi\n",
    "        # normalize the probabilities\n",
    "pi /= pi.sum()\n",
    "M /= M.sum(axis=1, keepdims=True)\n",
    "        \n",
    "     "
   ]
  },
  {
   "cell_type": "code",
   "execution_count": 6,
   "id": "a02957c1",
   "metadata": {},
   "outputs": [],
   "source": [
    "original_message = '''I then lounged down the street and found,\n",
    "as I expected, that there was a mews in a lane which runs down\n",
    "by one wall of the garden. I lent the ostlers a hand in rubbing\n",
    "down their horses, and received in exchange twopence, a glass of\n",
    "half-and-half, two fills of shag tobacco, and as much information\n",
    "as I could desire about Miss Adler, to say nothing of half a dozen\n",
    "other people in the neighbourhood in whom I was not in the least\n",
    "interested, but whose biographies I was compelled to listen to.\n",
    "'''"
   ]
  },
  {
   "cell_type": "code",
   "execution_count": 7,
   "id": "ea9bd8b5",
   "metadata": {},
   "outputs": [],
   "source": [
    " # a function to encode a message\n",
    "def encode_message(msg):\n",
    "    # lowercase\n",
    "    msg = msg.lower()\n",
    "    \n",
    "    # replace non-alpha characters\n",
    "    msg = regex.sub(' ', msg)\n",
    "    \n",
    "    # encoding the msg\n",
    "    coded_msg = []\n",
    "    for ch in msg:\n",
    "        coded_ch = ch # ch could be a space\n",
    "        if ch in true_mapping:\n",
    "            coded_ch = true_mapping[ch]\n",
    "        coded_msg.append(coded_ch)\n",
    "    \n",
    "    return ''.join(coded_msg)\n",
    "\n",
    "# function to decode a message\n",
    "def decode_message(msg, word_map):\n",
    "    decoded_msg = []\n",
    "    for ch in msg:\n",
    "        decoded_ch = ch # could just be a space\n",
    "        if ch in word_map:\n",
    "            decoded_ch = word_map[ch]\n",
    "        decoded_msg.append(decoded_ch)\n",
    "\n",
    "    return ''.join(decoded_msg)\n",
    "\n"
   ]
  },
  {
   "cell_type": "code",
   "execution_count": 8,
   "id": "0e6d98be",
   "metadata": {},
   "outputs": [],
   "source": [
    "encoded_message = encode_message(original_message)"
   ]
  },
  {
   "cell_type": "code",
   "execution_count": 9,
   "id": "a94eb00d",
   "metadata": {},
   "outputs": [],
   "source": [
    "# Genetic algorithm part\n",
    "\n",
    "dna_pool = []\n",
    "for _ in range(20):\n",
    "    dna = list(string.ascii_lowercase)\n",
    "    random.shuffle(dna)\n",
    "    dna_pool.append(dna)\n"
   ]
  },
  {
   "cell_type": "code",
   "execution_count": 10,
   "id": "d636ff89",
   "metadata": {},
   "outputs": [],
   "source": [
    "# generating new generation of offspring\n",
    "def evolve_offspring(dna_pool, n_children):\n",
    "    offspring = []\n",
    "    \n",
    "    for dna in dna_pool:\n",
    "        for _ in range(n_children):\n",
    "            copy = dna.copy()\n",
    "            j = np.random.randint(len(copy))\n",
    "            k = np.random.randint(len(copy))\n",
    "            \n",
    "            # for mutation I will use switching of characters\n",
    "            # since our mapping requires eact 26 character so there is\n",
    "            # no point in adding or removing any character in mapping\n",
    "            \n",
    "            temp = copy[j]\n",
    "            copy[j] = copy[k]\n",
    "            copy[k] = temp\n",
    "            offspring.append(copy)\n",
    "            \n",
    "    return offspring + dna_pool\n"
   ]
  },
  {
   "cell_type": "code",
   "execution_count": 11,
   "id": "62991bd2",
   "metadata": {},
   "outputs": [
    {
     "name": "stdout",
     "output_type": "stream",
     "text": [
      "iter:  0 score:  -2049.4719151870336 best so far:  -1700.3697731329012\n",
      "iter:  100 score:  -1050.3468141591393 best so far:  -936.4359467137024\n",
      "iter:  200 score:  -1047.8756603087336 best so far:  -929.5902922650557\n",
      "iter:  300 score:  -1034.0804772548456 best so far:  -929.5902922650557\n",
      "iter:  400 score:  -1041.0332761393713 best so far:  -929.5902922650557\n",
      "iter:  500 score:  -1054.5627394791943 best so far:  -929.5902922650557\n",
      "iter:  600 score:  -1053.6176472758302 best so far:  -929.5902922650557\n",
      "iter:  700 score:  -1035.7711701904555 best so far:  -929.5902922650557\n",
      "iter:  800 score:  -1059.2832734089818 best so far:  -929.5902922650557\n",
      "iter:  900 score:  -1042.039520319818 best so far:  -929.5902922650557\n"
     ]
    }
   ],
   "source": [
    "num_iters = 1000\n",
    "scores = np.zeros(num_iters)\n",
    "best_dna = None\n",
    "best_map = None\n",
    "best_score = float('-inf')\n",
    "\n",
    "for i in range(num_iters):\n",
    "    if i>0:\n",
    "        dna_pool = evolve_offspring(dna_pool, 10)\n",
    "    \n",
    "    # calculate score for each dna\n",
    "    dna2score = {}\n",
    "    for dna in dna_pool:\n",
    "        # populate map\n",
    "        current_map = {}\n",
    "        for k, v in zip(letters1, dna):\n",
    "            current_map[k] = v\n",
    "        \n",
    "        decoded_message = decode_message(encoded_message, current_map)\n",
    "        score = get_sequence_prob(decoded_message)\n",
    "        \n",
    "        # storing dna: score in dna2score\n",
    "        dna2score[''.join(dna)] = score\n",
    "        \n",
    "        if(score>best_score):\n",
    "            best_dna = dna\n",
    "            best_map = current_map\n",
    "            best_score = score\n",
    "            \n",
    "    scores[i] = np.mean(list(dna2score.values()))\n",
    "    \n",
    "    # keeping best 5 of dna and turn them back into the list of single chars\n",
    "    \n",
    "    sorted_dna = sorted(dna2score.items(), key = lambda x:x[1], reverse= True)\n",
    "    dna_pool = [list(k) for k,v in sorted_dna[:8]]\n",
    "    \n",
    "    if i%100==0:\n",
    "        print(\"iter: \", i, \"score: \", scores[i], \"best so far: \", best_score)\n",
    "            "
   ]
  },
  {
   "cell_type": "code",
   "execution_count": 12,
   "id": "93146b54",
   "metadata": {},
   "outputs": [
    {
     "name": "stdout",
     "output_type": "stream",
     "text": [
      "LL of decoded message -929.5902922650557\n",
      "LL of true message -933.0312453751817\n",
      "true: k, pred: q\n",
      "true: q, pred: z\n",
      "true: z, pred: k\n"
     ]
    }
   ],
   "source": [
    "decoded_message = decode_message(encoded_message, best_map)\n",
    "\n",
    "print(\"LL of decoded message\", get_sequence_prob(decoded_message))\n",
    "print(\"LL of true message\", get_sequence_prob(regex.sub(' ', original_message.lower())))\n",
    "\n",
    "for true,v in true_mapping.items():\n",
    "    pred = best_map[v]\n",
    "    if true != pred:\n",
    "        print(\"true: %s, pred: %s\" %(true, pred))\n",
    "        "
   ]
  },
  {
   "cell_type": "code",
   "execution_count": 13,
   "id": "3c0ee8e1",
   "metadata": {},
   "outputs": [
    {
     "name": "stdout",
     "output_type": "stream",
     "text": [
      "Decoded msg: \n",
      " i then lounged down the street and found  as i expected  that there\n",
      "was a mews in a lane which runs down by one wall of the garden  i lent\n",
      "the ostlers a hand in rubbing down their horses  and received in\n",
      "exchange twopence  a glass of half and half  two fills of shag tobacco\n",
      "and as much information as i could desire about miss adler  to say\n",
      "nothing of half a doken other people in the neighbourhood in whom i\n",
      "was not in the least interested  but whose biographies i was compelled\n",
      "to listen to\n",
      "\n",
      "Actual msg: \n",
      " I then lounged down the street and found,\n",
      "as I expected, that there was a mews in a lane which runs down\n",
      "by one wall of the garden. I lent the ostlers a hand in rubbing\n",
      "down their horses, and received in exchange twopence, a glass of\n",
      "half-and-half, two fills of shag tobacco, and as much information\n",
      "as I could desire about Miss Adler, to say nothing of half a dozen\n",
      "other people in the neighbourhood in whom I was not in the least\n",
      "interested, but whose biographies I was compelled to listen to.\n",
      "\n"
     ]
    }
   ],
   "source": [
    "print(\"Decoded msg: \\n\", textwrap.fill(decoded_message))\n",
    "print(\"\\nActual msg: \\n\", original_message)"
   ]
  },
  {
   "cell_type": "code",
   "execution_count": 14,
   "id": "81fef74a",
   "metadata": {},
   "outputs": [],
   "source": [
    "%matplotlib inline"
   ]
  },
  {
   "cell_type": "code",
   "execution_count": 27,
   "id": "d5a95cf6",
   "metadata": {},
   "outputs": [
    {
     "data": {
      "text/plain": [
       "[<matplotlib.lines.Line2D at 0x7f7ff2cad6d0>]"
      ]
     },
     "execution_count": 27,
     "metadata": {},
     "output_type": "execute_result"
    },
    {
     "data": {
      "image/png": "[encoded data removed]",
      "text/plain": [
       "<Figure size 432x288 with 1 Axes>"
      ]
     },
     "metadata": {
      "needs_background": "light"
     },
     "output_type": "display_data"
    }
   ],
   "source": [
    "plt.plot([i for i in range(1000)], scores)"
   ]
  },
  {
   "cell_type": "code",
   "execution_count": null,
   "id": "d0c1dbc7",
   "metadata": {},
   "outputs": [],
   "source": []
  },
  {
   "cell_type": "code",
   "execution_count": null,
   "id": "744ee6d3",
   "metadata": {},
   "outputs": [],
   "source": []
  },
  {
   "cell_type": "code",
   "execution_count": null,
   "id": "ac0313d0",
   "metadata": {},
   "outputs": [],
   "source": []
  },
  {
   "cell_type": "code",
   "execution_count": null,
   "id": "42a209e9",
   "metadata": {},
   "outputs": [],
   "source": [
    "\n"
   ]
  },
  {
   "cell_type": "code",
   "execution_count": null,
   "id": "0246e3f7",
   "metadata": {},
   "outputs": [],
   "source": [
    "\n"
   ]
  },
  {
   "cell_type": "code",
   "execution_count": null,
   "id": "a1cfa272",
   "metadata": {},
   "outputs": [],
   "source": []
  }
 ],
 "metadata": {
  "kernelspec": {
   "display_name": "Python 3",
   "language": "python",
   "name": "python3"
  },
  "language_info": {
   "codemirror_mode": {
    "name": "ipython",
    "version": 3
   },
   "file_extension": ".py",
   "mimetype": "text/x-python",
   "name": "python",
   "nbconvert_exporter": "python",
   "pygments_lexer": "ipython3",
   "version": "3.7.6"
  }
 },
 "nbformat": 4,
 "nbformat_minor": 5
}
